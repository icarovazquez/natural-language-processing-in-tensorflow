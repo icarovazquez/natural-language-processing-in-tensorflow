{
  "nbformat": 4,
  "nbformat_minor": 0,
  "metadata": {
    "colab": {
      "name": "NLP in Tensorflow Week 3 Exercise.ipynb",
      "provenance": [],
      "collapsed_sections": [],
      "include_colab_link": true
    },
    "kernelspec": {
      "name": "python3",
      "display_name": "Python 3"
    },
    "accelerator": "GPU"
  },
  "cells": [
    {
      "cell_type": "markdown",
      "metadata": {
        "id": "view-in-github",
        "colab_type": "text"
      },
      "source": [
        "<a href=\"https://colab.research.google.com/github/icarovazquez/natural-language-processing-in-tensorflow/blob/master/NLP_in_Tensorflow_Week_3_Exercise.ipynb\" target=\"_parent\"><img src=\"https://colab.research.google.com/assets/colab-badge.svg\" alt=\"Open In Colab\"/></a>"
      ]
    },
    {
      "cell_type": "code",
      "metadata": {
        "id": "hmA6EzkQJ5jt",
        "colab_type": "code",
        "colab": {}
      },
      "source": [
        "import json\n",
        "import tensorflow as tf\n",
        "import csv\n",
        "import random\n",
        "import numpy as np\n",
        "\n",
        "from tensorflow.keras.preprocessing.text import Tokenizer\n",
        "from tensorflow.keras.preprocessing.sequence import pad_sequences\n",
        "from tensorflow.keras.utils import to_categorical\n",
        "from tensorflow.keras import regularizers\n",
        "\n",
        "\n",
        "embedding_dim = 100\n",
        "max_length = 16\n",
        "trunc_type='post'\n",
        "padding_type='post'\n",
        "oov_tok = \"<OOV>\"\n",
        "training_size=16000\n",
        "#Your dataset size here. Experiment using smaller values (i.e. 16000), but don't forget to train on at least 160000 to see the best effects\n",
        "test_portion=.1\n",
        "\n",
        "corpus = []\n"
      ],
      "execution_count": 0,
      "outputs": []
    },
    {
      "cell_type": "code",
      "metadata": {
        "id": "bM0l_dORKqE0",
        "colab_type": "code",
        "outputId": "631c9287-41ac-43f5-9bf9-8a2a0ea5eb28",
        "colab": {
          "base_uri": "https://localhost:8080/",
          "height": 204
        }
      },
      "source": [
        "\n",
        "# Note that I cleaned the Stanford dataset to remove LATIN1 encoding to make it easier for Python CSV reader\n",
        "# You can do that yourself with:\n",
        "# iconv -f LATIN1 -t UTF8 training.1600000.processed.noemoticon.csv -o training_cleaned.csv\n",
        "# I then hosted it on my site to make it easier to use in this notebook\n",
        "\n",
        "!wget --no-check-certificate \\\n",
        "    https://storage.googleapis.com/laurencemoroney-blog.appspot.com/training_cleaned.csv \\\n",
        "    -O /tmp/training_cleaned.csv\n",
        "\n",
        "num_sentences = 0\n",
        "\n",
        "with open(\"/tmp/training_cleaned.csv\") as csvfile:\n",
        "    reader = csv.reader(csvfile, delimiter=',')\n",
        "    for row in reader:\n",
        "      # Your Code here. Create list items where the first item is the text, found in row[5], and the second is the label. Note that the label is a '0' or a '4' in the text. When it's the former, make\n",
        "      # your label to be 0, otherwise 1. Keep a count of the number of sentences in num_sentences\n",
        "        list_item=[]\n",
        "        list_item.append(row[5])\n",
        "        if row[0]== '0':\n",
        "          label= 0\n",
        "        else:\n",
        "          label= 1\n",
        "        list_item.append(label)\n",
        "        num_sentences = num_sentences + 1\n",
        "        corpus.append(list_item)\n",
        "\n",
        "\n"
      ],
      "execution_count": 2,
      "outputs": [
        {
          "output_type": "stream",
          "text": [
            "--2019-10-15 04:14:45--  https://storage.googleapis.com/laurencemoroney-blog.appspot.com/training_cleaned.csv\n",
            "Resolving storage.googleapis.com (storage.googleapis.com)... 172.217.203.128, 2607:f8b0:400c:c0c::80\n",
            "Connecting to storage.googleapis.com (storage.googleapis.com)|172.217.203.128|:443... connected.\n",
            "HTTP request sent, awaiting response... 200 OK\n",
            "Length: 238942690 (228M) [application/octet-stream]\n",
            "Saving to: ‘/tmp/training_cleaned.csv’\n",
            "\n",
            "/tmp/training_clean 100%[===================>] 227.87M   135MB/s    in 1.7s    \n",
            "\n",
            "2019-10-15 04:14:47 (135 MB/s) - ‘/tmp/training_cleaned.csv’ saved [238942690/238942690]\n",
            "\n"
          ],
          "name": "stdout"
        }
      ]
    },
    {
      "cell_type": "code",
      "metadata": {
        "id": "3kxblBUjEUX-",
        "colab_type": "code",
        "outputId": "3e5f2a0f-4ef9-48b1-c0c6-4818dd5d5054",
        "colab": {
          "base_uri": "https://localhost:8080/",
          "height": 68
        }
      },
      "source": [
        "print(num_sentences)\n",
        "print(len(corpus))\n",
        "print(corpus[1])\n",
        "\n",
        "# Expected Output:\n",
        "# 1600000\n",
        "# 1600000\n",
        "# [\"is upset that he can't update his Facebook by texting it... and might cry as a result  School today also. Blah!\", 0]"
      ],
      "execution_count": 3,
      "outputs": [
        {
          "output_type": "stream",
          "text": [
            "1600000\n",
            "1600000\n",
            "[\"is upset that he can't update his Facebook by texting it... and might cry as a result  School today also. Blah!\", 0]\n"
          ],
          "name": "stdout"
        }
      ]
    },
    {
      "cell_type": "code",
      "metadata": {
        "id": "ohOGz24lsNAD",
        "colab_type": "code",
        "colab": {}
      },
      "source": [
        "sentences=[]\n",
        "labels=[]\n",
        "random.shuffle(corpus)\n",
        "for x in range(training_size):\n",
        "    sentences.append(corpus[x][0])\n",
        "    labels.append(corpus[x][1])\n",
        "\n",
        "\n",
        "tokenizer = Tokenizer()\n",
        "tokenizer.fit_on_texts(sentences)\n",
        "\n",
        "word_index = tokenizer.word_index\n",
        "vocab_size=len(word_index)\n",
        "\n",
        "sequences = tokenizer.texts_to_sequences(sentences)\n",
        "padded = pad_sequences(sequences, padding=padding_type, maxlen=max_length, truncating=trunc_type)\n",
        "\n",
        "\n",
        "split = int(test_portion * training_size)\n",
        "\n",
        "test_sequences = padded[0:split]\n",
        "training_sequences = padded[split:]\n",
        "test_labels = labels[0:split]\n",
        "training_labels = labels[split:]"
      ],
      "execution_count": 0,
      "outputs": []
    },
    {
      "cell_type": "code",
      "metadata": {
        "id": "gIrtRem1En3N",
        "colab_type": "code",
        "outputId": "ff86251a-59ac-4e24-e57e-b3315d9b33f5",
        "colab": {
          "base_uri": "https://localhost:8080/",
          "height": 51
        }
      },
      "source": [
        "print(vocab_size)\n",
        "print(word_index['i'])\n",
        "# Expected Output\n",
        "# 138858\n",
        "# 1"
      ],
      "execution_count": 5,
      "outputs": [
        {
          "output_type": "stream",
          "text": [
            "26194\n",
            "1\n"
          ],
          "name": "stdout"
        }
      ]
    },
    {
      "cell_type": "code",
      "metadata": {
        "id": "C1zdgJkusRh0",
        "colab_type": "code",
        "outputId": "b5f05c8c-1569-4f1c-e35f-16e9a99c943b",
        "colab": {
          "base_uri": "https://localhost:8080/",
          "height": 204
        }
      },
      "source": [
        "# Note this is the 100 dimension version of GloVe from Stanford\n",
        "# I unzipped and hosted it on my site to make this notebook easier\n",
        "!wget --no-check-certificate \\\n",
        "    https://storage.googleapis.com/laurencemoroney-blog.appspot.com/glove.6B.100d.txt \\\n",
        "    -O /tmp/glove.6B.100d.txt\n",
        "embeddings_index = {};\n",
        "with open('/tmp/glove.6B.100d.txt') as f:\n",
        "    for line in f:\n",
        "        values = line.split();\n",
        "        word = values[0];\n",
        "        coefs = np.asarray(values[1:], dtype='float32');\n",
        "        embeddings_index[word] = coefs;\n",
        "\n",
        "embeddings_matrix = np.zeros((vocab_size+1, embedding_dim));\n",
        "for word, i in word_index.items():\n",
        "    embedding_vector = embeddings_index.get(word);\n",
        "    if embedding_vector is not None:\n",
        "        embeddings_matrix[i] = embedding_vector;"
      ],
      "execution_count": 6,
      "outputs": [
        {
          "output_type": "stream",
          "text": [
            "--2019-10-15 04:15:06--  https://storage.googleapis.com/laurencemoroney-blog.appspot.com/glove.6B.100d.txt\n",
            "Resolving storage.googleapis.com (storage.googleapis.com)... 172.217.203.128, 2607:f8b0:400c:c15::80\n",
            "Connecting to storage.googleapis.com (storage.googleapis.com)|172.217.203.128|:443... connected.\n",
            "HTTP request sent, awaiting response... 200 OK\n",
            "Length: 347116733 (331M) [text/plain]\n",
            "Saving to: ‘/tmp/glove.6B.100d.txt’\n",
            "\n",
            "/tmp/glove.6B.100d. 100%[===================>] 331.04M   134MB/s    in 2.5s    \n",
            "\n",
            "2019-10-15 04:15:08 (134 MB/s) - ‘/tmp/glove.6B.100d.txt’ saved [347116733/347116733]\n",
            "\n"
          ],
          "name": "stdout"
        }
      ]
    },
    {
      "cell_type": "code",
      "metadata": {
        "id": "71NLk_lpFLNt",
        "colab_type": "code",
        "outputId": "616d4516-88ff-4703-e8aa-cb056afe964d",
        "colab": {
          "base_uri": "https://localhost:8080/",
          "height": 34
        }
      },
      "source": [
        "print(len(embeddings_matrix))\n",
        "# Expected Output\n",
        "# 138859"
      ],
      "execution_count": 7,
      "outputs": [
        {
          "output_type": "stream",
          "text": [
            "26195\n"
          ],
          "name": "stdout"
        }
      ]
    },
    {
      "cell_type": "code",
      "metadata": {
        "colab_type": "code",
        "id": "iKKvbuEBOGFz",
        "colab": {
          "base_uri": "https://localhost:8080/",
          "height": 1000
        },
        "outputId": "006f05fc-11b0-4b2e-ce88-54156e5810c1"
      },
      "source": [
        "model = tf.keras.Sequential([\n",
        "    tf.keras.layers.Embedding(vocab_size+1, embedding_dim, input_length=max_length, weights=[embeddings_matrix], trainable=False),\n",
        "    tf.keras.layers.Conv1D(128, 5, activation='relu'),\n",
        "    tf.keras.layers.MaxPooling1D(pool_size=4),\n",
        "    tf.keras.layers.LSTM(64),\n",
        "    #tf.keras.layers.Dense(24, activation='relu'),\n",
        "    tf.keras.layers.Dense(1, activation='sigmoid')\n",
        "])\n",
        "model.compile(loss='binary_crossentropy',optimizer='adam',metrics=['accuracy'])\n",
        "model.summary()\n",
        "\n",
        "num_epochs = 50\n",
        "history = model.fit(training_sequences, training_labels, epochs=num_epochs, validation_data=(test_sequences, test_labels), verbose=2)\n",
        "\n",
        "print(\"Training Complete\")\n"
      ],
      "execution_count": 12,
      "outputs": [
        {
          "output_type": "stream",
          "text": [
            "Model: \"sequential_3\"\n",
            "_________________________________________________________________\n",
            "Layer (type)                 Output Shape              Param #   \n",
            "=================================================================\n",
            "embedding_4 (Embedding)      (None, 16, 100)           2619500   \n",
            "_________________________________________________________________\n",
            "conv1d_3 (Conv1D)            (None, 12, 128)           64128     \n",
            "_________________________________________________________________\n",
            "max_pooling1d_2 (MaxPooling1 (None, 3, 128)            0         \n",
            "_________________________________________________________________\n",
            "lstm (LSTM)                  (None, 64)                49408     \n",
            "_________________________________________________________________\n",
            "dense_6 (Dense)              (None, 1)                 65        \n",
            "=================================================================\n",
            "Total params: 2,733,101\n",
            "Trainable params: 113,601\n",
            "Non-trainable params: 2,619,500\n",
            "_________________________________________________________________\n",
            "Train on 14400 samples, validate on 1600 samples\n",
            "Epoch 1/50\n",
            "14400/14400 - 5s - loss: 0.6185 - acc: 0.6549 - val_loss: 0.5650 - val_acc: 0.7119\n",
            "Epoch 2/50\n",
            "14400/14400 - 5s - loss: 0.5330 - acc: 0.7326 - val_loss: 0.5511 - val_acc: 0.7069\n",
            "Epoch 3/50\n",
            "14400/14400 - 4s - loss: 0.4703 - acc: 0.7725 - val_loss: 0.5524 - val_acc: 0.7081\n",
            "Epoch 4/50\n",
            "14400/14400 - 4s - loss: 0.3940 - acc: 0.8216 - val_loss: 0.5871 - val_acc: 0.7175\n",
            "Epoch 5/50\n",
            "14400/14400 - 4s - loss: 0.3074 - acc: 0.8691 - val_loss: 0.6298 - val_acc: 0.7019\n",
            "Epoch 6/50\n",
            "14400/14400 - 4s - loss: 0.2333 - acc: 0.9050 - val_loss: 0.8051 - val_acc: 0.6938\n",
            "Epoch 7/50\n",
            "14400/14400 - 4s - loss: 0.1766 - acc: 0.9294 - val_loss: 0.9598 - val_acc: 0.6869\n",
            "Epoch 8/50\n",
            "14400/14400 - 4s - loss: 0.1425 - acc: 0.9453 - val_loss: 1.1066 - val_acc: 0.6737\n",
            "Epoch 9/50\n",
            "14400/14400 - 4s - loss: 0.1034 - acc: 0.9598 - val_loss: 1.0956 - val_acc: 0.6975\n",
            "Epoch 10/50\n",
            "14400/14400 - 4s - loss: 0.0928 - acc: 0.9644 - val_loss: 1.2122 - val_acc: 0.6837\n",
            "Epoch 11/50\n",
            "14400/14400 - 4s - loss: 0.0765 - acc: 0.9731 - val_loss: 1.2738 - val_acc: 0.6819\n",
            "Epoch 12/50\n",
            "14400/14400 - 4s - loss: 0.0628 - acc: 0.9772 - val_loss: 1.3356 - val_acc: 0.6925\n",
            "Epoch 13/50\n",
            "14400/14400 - 4s - loss: 0.0588 - acc: 0.9783 - val_loss: 1.2755 - val_acc: 0.6931\n",
            "Epoch 14/50\n",
            "14400/14400 - 4s - loss: 0.0489 - acc: 0.9833 - val_loss: 1.4681 - val_acc: 0.6894\n",
            "Epoch 15/50\n",
            "14400/14400 - 4s - loss: 0.0508 - acc: 0.9801 - val_loss: 1.3607 - val_acc: 0.6931\n",
            "Epoch 16/50\n",
            "14400/14400 - 4s - loss: 0.0507 - acc: 0.9834 - val_loss: 1.4862 - val_acc: 0.6938\n",
            "Epoch 17/50\n",
            "14400/14400 - 4s - loss: 0.0440 - acc: 0.9836 - val_loss: 1.6223 - val_acc: 0.6963\n",
            "Epoch 18/50\n",
            "14400/14400 - 4s - loss: 0.0359 - acc: 0.9862 - val_loss: 1.5010 - val_acc: 0.7150\n",
            "Epoch 19/50\n",
            "14400/14400 - 4s - loss: 0.0447 - acc: 0.9844 - val_loss: 1.5156 - val_acc: 0.6869\n",
            "Epoch 20/50\n",
            "14400/14400 - 4s - loss: 0.0436 - acc: 0.9850 - val_loss: 1.6470 - val_acc: 0.6862\n",
            "Epoch 21/50\n",
            "14400/14400 - 4s - loss: 0.0344 - acc: 0.9881 - val_loss: 1.7237 - val_acc: 0.6888\n",
            "Epoch 22/50\n",
            "14400/14400 - 4s - loss: 0.0290 - acc: 0.9895 - val_loss: 1.7553 - val_acc: 0.6825\n",
            "Epoch 23/50\n",
            "14400/14400 - 4s - loss: 0.0323 - acc: 0.9874 - val_loss: 1.8475 - val_acc: 0.6856\n",
            "Epoch 24/50\n",
            "14400/14400 - 4s - loss: 0.0444 - acc: 0.9844 - val_loss: 1.6627 - val_acc: 0.6925\n",
            "Epoch 25/50\n",
            "14400/14400 - 4s - loss: 0.0313 - acc: 0.9884 - val_loss: 1.7997 - val_acc: 0.6819\n",
            "Epoch 26/50\n",
            "14400/14400 - 4s - loss: 0.0294 - acc: 0.9887 - val_loss: 1.7257 - val_acc: 0.6906\n",
            "Epoch 27/50\n",
            "14400/14400 - 4s - loss: 0.0358 - acc: 0.9866 - val_loss: 1.5497 - val_acc: 0.6969\n",
            "Epoch 28/50\n",
            "14400/14400 - 4s - loss: 0.0331 - acc: 0.9878 - val_loss: 1.6611 - val_acc: 0.6944\n",
            "Epoch 29/50\n",
            "14400/14400 - 4s - loss: 0.0261 - acc: 0.9904 - val_loss: 1.8259 - val_acc: 0.6875\n",
            "Epoch 30/50\n",
            "14400/14400 - 4s - loss: 0.0266 - acc: 0.9903 - val_loss: 1.8943 - val_acc: 0.6787\n",
            "Epoch 31/50\n",
            "14400/14400 - 4s - loss: 0.0242 - acc: 0.9912 - val_loss: 1.8045 - val_acc: 0.7019\n",
            "Epoch 32/50\n",
            "14400/14400 - 4s - loss: 0.0235 - acc: 0.9915 - val_loss: 1.8709 - val_acc: 0.6837\n",
            "Epoch 33/50\n",
            "14400/14400 - 4s - loss: 0.0299 - acc: 0.9899 - val_loss: 1.8440 - val_acc: 0.6894\n",
            "Epoch 34/50\n",
            "14400/14400 - 4s - loss: 0.0270 - acc: 0.9901 - val_loss: 1.7271 - val_acc: 0.6662\n",
            "Epoch 35/50\n",
            "14400/14400 - 4s - loss: 0.0326 - acc: 0.9881 - val_loss: 1.7742 - val_acc: 0.6762\n",
            "Epoch 36/50\n",
            "14400/14400 - 4s - loss: 0.0195 - acc: 0.9924 - val_loss: 1.8299 - val_acc: 0.6694\n",
            "Epoch 37/50\n",
            "14400/14400 - 4s - loss: 0.0213 - acc: 0.9925 - val_loss: 1.9561 - val_acc: 0.6725\n",
            "Epoch 38/50\n",
            "14400/14400 - 4s - loss: 0.0276 - acc: 0.9888 - val_loss: 1.8227 - val_acc: 0.6819\n",
            "Epoch 39/50\n",
            "14400/14400 - 4s - loss: 0.0248 - acc: 0.9912 - val_loss: 1.9596 - val_acc: 0.6856\n",
            "Epoch 40/50\n",
            "14400/14400 - 4s - loss: 0.0204 - acc: 0.9933 - val_loss: 1.7581 - val_acc: 0.6850\n",
            "Epoch 41/50\n",
            "14400/14400 - 4s - loss: 0.0272 - acc: 0.9900 - val_loss: 1.7880 - val_acc: 0.6644\n",
            "Epoch 42/50\n",
            "14400/14400 - 4s - loss: 0.0251 - acc: 0.9909 - val_loss: 1.8596 - val_acc: 0.6900\n",
            "Epoch 43/50\n",
            "14400/14400 - 4s - loss: 0.0181 - acc: 0.9919 - val_loss: 1.8704 - val_acc: 0.6875\n",
            "Epoch 44/50\n",
            "14400/14400 - 4s - loss: 0.0211 - acc: 0.9931 - val_loss: 2.0003 - val_acc: 0.6794\n",
            "Epoch 45/50\n",
            "14400/14400 - 4s - loss: 0.0222 - acc: 0.9912 - val_loss: 1.7483 - val_acc: 0.6950\n",
            "Epoch 46/50\n",
            "14400/14400 - 4s - loss: 0.0180 - acc: 0.9937 - val_loss: 2.1422 - val_acc: 0.6681\n",
            "Epoch 47/50\n",
            "14400/14400 - 4s - loss: 0.0244 - acc: 0.9913 - val_loss: 1.9505 - val_acc: 0.6881\n",
            "Epoch 48/50\n",
            "14400/14400 - 4s - loss: 0.0143 - acc: 0.9941 - val_loss: 2.1205 - val_acc: 0.6800\n",
            "Epoch 49/50\n",
            "14400/14400 - 4s - loss: 0.0337 - acc: 0.9876 - val_loss: 1.8312 - val_acc: 0.6913\n",
            "Epoch 50/50\n",
            "14400/14400 - 4s - loss: 0.0196 - acc: 0.9923 - val_loss: 1.8548 - val_acc: 0.6988\n",
            "Training Complete\n"
          ],
          "name": "stdout"
        }
      ]
    },
    {
      "cell_type": "code",
      "metadata": {
        "id": "qxju4ItJKO8F",
        "colab_type": "code",
        "colab": {
          "base_uri": "https://localhost:8080/",
          "height": 607
        },
        "outputId": "d42408d5-753a-4e80-c915-c62f23f9ace3"
      },
      "source": [
        "import matplotlib.image  as mpimg\n",
        "import matplotlib.pyplot as plt\n",
        "\n",
        "#-----------------------------------------------------------\n",
        "# Retrieve a list of list results on training and test data\n",
        "# sets for each training epoch\n",
        "#-----------------------------------------------------------\n",
        "acc=history.history['acc']\n",
        "val_acc=history.history['val_acc']\n",
        "loss=history.history['loss']\n",
        "val_loss=history.history['val_loss']\n",
        "\n",
        "epochs=range(len(acc)) # Get number of epochs\n",
        "\n",
        "#------------------------------------------------\n",
        "# Plot training and validation accuracy per epoch\n",
        "#------------------------------------------------\n",
        "plt.plot(epochs, acc, 'r')\n",
        "plt.plot(epochs, val_acc, 'b')\n",
        "plt.title('Training and validation accuracy')\n",
        "plt.xlabel(\"Epochs\")\n",
        "plt.ylabel(\"Accuracy\")\n",
        "plt.legend([\"Accuracy\", \"Validation Accuracy\"])\n",
        "\n",
        "plt.figure()\n",
        "\n",
        "#------------------------------------------------\n",
        "# Plot training and validation loss per epoch\n",
        "#------------------------------------------------\n",
        "plt.plot(epochs, loss, 'r')\n",
        "plt.plot(epochs, val_loss, 'b')\n",
        "plt.title('Training and validation loss')\n",
        "plt.xlabel(\"Epochs\")\n",
        "plt.ylabel(\"Loss\")\n",
        "plt.legend([\"Loss\", \"Validation Loss\"])\n",
        "\n",
        "plt.figure()\n",
        "\n",
        "\n",
        "# Expected Output\n",
        "# A chart where the validation loss does not increase sharply!"
      ],
      "execution_count": 13,
      "outputs": [
        {
          "output_type": "execute_result",
          "data": {
            "text/plain": [
              "<Figure size 432x288 with 0 Axes>"
            ]
          },
          "metadata": {
            "tags": []
          },
          "execution_count": 13
        },
        {
          "output_type": "display_data",
          "data": {
            "image/png": "[encoded data removed]",
            "text/plain": [
              "<Figure size 432x288 with 1 Axes>"
            ]
          },
          "metadata": {
            "tags": []
          }
        },
        {
          "output_type": "display_data",
          "data": {
            "image/png": "[encoded data removed]",
            "text/plain": [
              "<Figure size 432x288 with 1 Axes>"
            ]
          },
          "metadata": {
            "tags": []
          }
        },
        {
          "output_type": "display_data",
          "data": {
            "text/plain": [
              "<Figure size 432x288 with 0 Axes>"
            ]
          },
          "metadata": {
            "tags": []
          }
        }
      ]
    },
    {
      "cell_type": "code",
      "metadata": {
        "id": "0n2XMMuBqKs4",
        "colab_type": "code",
        "colab": {}
      },
      "source": [
        ""
      ],
      "execution_count": 0,
      "outputs": []
    }
  ]
}